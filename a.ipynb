{
 "cells": [
  {
   "cell_type": "code",
   "execution_count": 1,
   "metadata": {},
   "outputs": [
    {
     "name": "stdout",
     "output_type": "stream",
     "text": [
      "Các cột không được coi là biến: ['TIME', 'PROFIT', 'SYMBOL', 'EXCHANGE']\n"
     ]
    }
   ],
   "source": [
    "import pandas as pd\n",
    "import numpy as np\n",
    "from base import Base\n",
    "from T5_23 import Method\n",
    "data = pd.read_excel(\"Data_Year_HOSE_File3_Field.xlsx\")\n",
    "vis = Method(data, \"Data_CT\", measure=\"geomean\", target=1.2, IRpC=1.06, max_loop=10)"
   ]
  },
  {
   "cell_type": "code",
   "execution_count": null,
   "metadata": {},
   "outputs": [],
   "source": [
    "vis.generate(num_f_in_a_file=100)"
   ]
  },
  {
   "cell_type": "code",
   "execution_count": 2,
   "metadata": {},
   "outputs": [
    {
     "data": {
      "text/html": [
       "<div>\n",
       "<style scoped>\n",
       "    .dataframe tbody tr th:only-of-type {\n",
       "        vertical-align: middle;\n",
       "    }\n",
       "\n",
       "    .dataframe tbody tr th {\n",
       "        vertical-align: top;\n",
       "    }\n",
       "\n",
       "    .dataframe thead th {\n",
       "        text-align: right;\n",
       "    }\n",
       "</style>\n",
       "<table border=\"1\" class=\"dataframe\">\n",
       "  <thead>\n",
       "    <tr style=\"text-align: right;\">\n",
       "      <th></th>\n",
       "      <th>formula</th>\n",
       "      <th>geomean_profit</th>\n",
       "      <th>Threshold</th>\n",
       "      <th>Profit</th>\n",
       "      <th>TIME</th>\n",
       "    </tr>\n",
       "  </thead>\n",
       "  <tbody>\n",
       "    <tr>\n",
       "      <th>25</th>\n",
       "      <td>[0 1 0 3]</td>\n",
       "      <td>1.301818</td>\n",
       "      <td>1.288680</td>\n",
       "      <td>0.447716</td>\n",
       "      <td>2022</td>\n",
       "    </tr>\n",
       "    <tr>\n",
       "      <th>35</th>\n",
       "      <td>[ 0  1  0 20]</td>\n",
       "      <td>1.349963</td>\n",
       "      <td>1.024662</td>\n",
       "      <td>0.551258</td>\n",
       "      <td>2022</td>\n",
       "    </tr>\n",
       "    <tr>\n",
       "      <th>86</th>\n",
       "      <td>[0 3 0 7]</td>\n",
       "      <td>1.317529</td>\n",
       "      <td>1.288680</td>\n",
       "      <td>0.443147</td>\n",
       "      <td>2022</td>\n",
       "    </tr>\n",
       "    <tr>\n",
       "      <th>90</th>\n",
       "      <td>[ 0  3  0 11]</td>\n",
       "      <td>1.314208</td>\n",
       "      <td>1.288680</td>\n",
       "      <td>0.438391</td>\n",
       "      <td>2022</td>\n",
       "    </tr>\n",
       "    <tr>\n",
       "      <th>93</th>\n",
       "      <td>[ 0  3  0 14]</td>\n",
       "      <td>1.305961</td>\n",
       "      <td>2.077984</td>\n",
       "      <td>0.473329</td>\n",
       "      <td>2022</td>\n",
       "    </tr>\n",
       "    <tr>\n",
       "      <th>95</th>\n",
       "      <td>[ 0  3  0 17]</td>\n",
       "      <td>1.306919</td>\n",
       "      <td>1.312360</td>\n",
       "      <td>0.436352</td>\n",
       "      <td>2022</td>\n",
       "    </tr>\n",
       "    <tr>\n",
       "      <th>107</th>\n",
       "      <td>[ 0  3  0 31]</td>\n",
       "      <td>1.315514</td>\n",
       "      <td>1.343923</td>\n",
       "      <td>0.452193</td>\n",
       "      <td>2022</td>\n",
       "    </tr>\n",
       "  </tbody>\n",
       "</table>\n",
       "</div>"
      ],
      "text/plain": [
       "           formula  geomean_profit  Threshold    Profit  TIME\n",
       "25       [0 1 0 3]        1.301818   1.288680  0.447716  2022\n",
       "35   [ 0  1  0 20]        1.349963   1.024662  0.551258  2022\n",
       "86       [0 3 0 7]        1.317529   1.288680  0.443147  2022\n",
       "90   [ 0  3  0 11]        1.314208   1.288680  0.438391  2022\n",
       "93   [ 0  3  0 14]        1.305961   2.077984  0.473329  2022\n",
       "95   [ 0  3  0 17]        1.306919   1.312360  0.436352  2022\n",
       "107  [ 0  3  0 31]        1.315514   1.343923  0.452193  2022"
      ]
     },
     "execution_count": 2,
     "metadata": {},
     "output_type": "execute_result"
    }
   ],
   "source": [
    "df = pd.read_csv(\"Data_CT\\\\formula_16_05_2023_12_39_00.csv\")\n",
    "df[df[\"geomean_profit\"] >= 1.3]"
   ]
  },
  {
   "cell_type": "code",
   "execution_count": 5,
   "metadata": {},
   "outputs": [
    {
     "name": "stdout",
     "output_type": "stream",
     "text": [
      "[1.06, 2.46656129863275, 1.06, 1.06, 0.9462426035502955, 1.5064185456438532, 0.621180290297934, 1.59960317460317, 1.06, 1.29282868525896, 0.432267884322678, 2.08083832335329, 3.227786584489768, 4.03252032520325]\n",
      "1.3499632218422175\n"
     ]
    }
   ],
   "source": [
    "data[\"Value_f\"] = vis.OPERAND[1] + vis.OPERAND[20]\n",
    "threshold = 1.024662\n",
    "list_profit = []\n",
    "reason = 0\n",
    "for i in range(2008, 2022):\n",
    "    pre_cyc_val = data[\"Value_f\"][data[\"TIME\"] == i-1]\n",
    "    pre_cyc_sym = data[\"SYMBOL\"][data[\"TIME\"] == i-1]\n",
    "    inv_cyc_val = data[\"Value_f\"][data[\"TIME\"] == i]\n",
    "    inv_cyc_sym = data[\"SYMBOL\"][data[\"TIME\"] == i]\n",
    "    if reason == 0:\n",
    "        coms = np.intersect1d(pre_cyc_sym[pre_cyc_val > threshold], inv_cyc_sym[inv_cyc_val > threshold])\n",
    "        if len(coms) == 0:\n",
    "            list_profit.append(1.06)\n",
    "            if len(inv_cyc_sym[inv_cyc_val > threshold]) == 0:\n",
    "                reason = 1\n",
    "        else:\n",
    "            inv_pro = data[\"PROFIT\"][data[\"TIME\"] == i][inv_cyc_sym.isin(coms)]\n",
    "            list_profit.append(inv_pro.mean())\n",
    "    else:\n",
    "        coms = inv_cyc_sym[inv_cyc_val > threshold]\n",
    "        if len(coms) == 0:\n",
    "            list_profit.append(1.06)\n",
    "        else:\n",
    "            inv_pro = data[\"PROFIT\"][data[\"TIME\"] == i][inv_cyc_sym.isin(coms)]\n",
    "            list_profit.append(inv_pro.mean())\n",
    "            reason = 0\n",
    "    \n",
    "    # try:\n",
    "    #     print(inv_pro)\n",
    "    # except:\n",
    "    #     print(1.06)\n",
    "\n",
    "print(list_profit)\n",
    "print(vis.measure(np.array(list_profit)))\n"
   ]
  },
  {
   "cell_type": "code",
   "execution_count": null,
   "metadata": {},
   "outputs": [],
   "source": [
    "pre_cyc_val = data[\"Value_f\"][data[\"TIME\"] == 2007]\n",
    "pre_cyc_sym = data[\"SYMBOL\"][data[\"TIME\"] == 2007]\n",
    "data[\"PROFIT\"][data[\"TIME\"] == 2007][pre_cyc_sym.isin([\"ABT\"])]"
   ]
  }
 ],
 "metadata": {
  "kernelspec": {
   "display_name": "Python 3",
   "language": "python",
   "name": "python3"
  },
  "language_info": {
   "codemirror_mode": {
    "name": "ipython",
    "version": 3
   },
   "file_extension": ".py",
   "mimetype": "text/x-python",
   "name": "python",
   "nbconvert_exporter": "python",
   "pygments_lexer": "ipython3",
   "version": "3.10.9"
  },
  "orig_nbformat": 4
 },
 "nbformat": 4,
 "nbformat_minor": 2
}
